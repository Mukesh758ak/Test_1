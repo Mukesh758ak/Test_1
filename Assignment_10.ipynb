{
  "nbformat": 4,
  "nbformat_minor": 0,
  "metadata": {
    "colab": {
      "provenance": []
    },
    "kernelspec": {
      "name": "python3",
      "display_name": "Python 3"
    },
    "language_info": {
      "name": "python"
    }
  },
  "cells": [
    {
      "cell_type": "markdown",
      "source": [
        "## 1. How do you distinguish between shutil.copy() and shutil.copytree()?"
      ],
      "metadata": {
        "id": "5Vi4_cChvpp1"
      }
    },
    {
      "cell_type": "code",
      "execution_count": null,
      "metadata": {
        "id": "mb8dCqSYtowz"
      },
      "outputs": [],
      "source": [
        "While shutil. copy() will copy a single file, shutil. \n",
        "copytree() will copy an entire folder and every folder and file contained in it."
      ]
    },
    {
      "cell_type": "markdown",
      "source": [
        "## 2. What function is used to rename files??"
      ],
      "metadata": {
        "id": "PXPtCCtWvsxB"
      }
    },
    {
      "cell_type": "code",
      "source": [
        "The shutil.move() function is used for renaming files, as well as moving them."
      ],
      "metadata": {
        "id": "Egdwj4i0vX3Z"
      },
      "execution_count": null,
      "outputs": []
    },
    {
      "cell_type": "markdown",
      "source": [
        "## 3. What is the difference between the delete functions in the send2trash and shutil modules?"
      ],
      "metadata": {
        "id": "-khKc6NqvzgB"
      }
    },
    {
      "cell_type": "code",
      "source": [
        "The send2trash functions will move a file or folder to the recycle bin, \n",
        "while shutil functions will permanently delete files and folders."
      ],
      "metadata": {
        "id": "qX4jw0uXvX-j"
      },
      "execution_count": null,
      "outputs": []
    },
    {
      "cell_type": "markdown",
      "source": [
        "## 4.ZipFile objects have a close() method just like File objects’ close() method. What ZipFile method is equivalent to File objects’ open() method?"
      ],
      "metadata": {
        "id": "8djEgmYuv6Xi"
      }
    },
    {
      "cell_type": "code",
      "source": [
        "The zipfile.ZipFile() function is equivalent to the open() function; the first argument is the filename, \n",
        "and the second argument is the mode to open the ZIP file in (read, write, or append).Write an assert"
      ],
      "metadata": {
        "id": "FczfyRTWvYKB"
      },
      "execution_count": null,
      "outputs": []
    },
    {
      "cell_type": "markdown",
      "source": [
        "## 5. Create a programme that searches a folder tree for files with a certain file extension (such as .pdf or .jpg). Copy these files from whatever location they are in to a new folder."
      ],
      "metadata": {
        "id": "Yu4PGHIe0Ey5"
      }
    },
    {
      "cell_type": "code",
      "source": [
        "import os, shutil\n",
        "\n",
        "def selectiveCopy(folder, extensions, destFolder):\n",
        "\tfolder = os.path.abspath(folder)\n",
        "\tdestFolder = os.path.abspath(destFolder)\n",
        "\tprint('Looking in', folder, 'for files with extensions of', ', '.join(extensions))\n",
        "\tfor foldername, subfolders, filenames in os.walk(folder):\n",
        "\t\tfor filename in filenames:\n",
        "\t\t\tname, extension = os.path.splitext(filename)\n",
        "\t\t\tif extension in extensions:\n",
        "\t\t\t\tfileAbsPath = foldername + os.path.sep + filename\n",
        "\t\t\t\tprint('Coping', fileAbsPath, 'to', destFolder)\n",
        "\t\t\t\tshutil.copy(fileAbsPath, destFolder)"
      ],
      "metadata": {
        "id": "raVobMS7vYbs"
      },
      "execution_count": null,
      "outputs": []
    },
    {
      "cell_type": "code",
      "source": [
        "import os, shutil\n",
        "def selectiveCopy(funcation, list, datafile):\n",
        "  funcation = os."
      ],
      "metadata": {
        "id": "iY3Z1cNs-v3t"
      },
      "execution_count": null,
      "outputs": []
    }
  ]
}