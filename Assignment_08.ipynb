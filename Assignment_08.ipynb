{
  "nbformat": 4,
  "nbformat_minor": 0,
  "metadata": {
    "colab": {
      "provenance": []
    },
    "kernelspec": {
      "name": "python3",
      "display_name": "Python 3"
    },
    "language_info": {
      "name": "python"
    }
  },
  "cells": [
    {
      "cell_type": "markdown",
      "source": [
        "## 1. Is the Python Standard Library included with PyInputPlus?"
      ],
      "metadata": {
        "id": "yyatp_TZjUIE"
      }
    },
    {
      "cell_type": "code",
      "execution_count": null,
      "metadata": {
        "id": "VGKsNTCYiaop"
      },
      "outputs": [],
      "source": [
        "PyInputPlus is not a part of the Python Standard Library, we must install it separately using Pip"
      ]
    },
    {
      "cell_type": "markdown",
      "source": [
        "## 2. Why is PyInputPlus commonly imported with import pyinputplus as pypi?"
      ],
      "metadata": {
        "id": "tbrDVlKNjYnI"
      }
    },
    {
      "cell_type": "code",
      "source": [
        "You can import the module with import pyinputplus as pyip so that you can \n",
        "enter a shorter name when calling the module’s functions"
      ],
      "metadata": {
        "id": "xJu0YxM7zQ-u"
      },
      "execution_count": null,
      "outputs": []
    },
    {
      "cell_type": "markdown",
      "source": [
        "## 3. How do you distinguish between inputInt() and inputFloat()?"
      ],
      "metadata": {
        "id": "yeXZoql4jgam"
      }
    },
    {
      "cell_type": "code",
      "source": [
        "inputInt() : Accepts an integer value, and returns int value\n",
        "inputFloat() : Accepts integer/floating point value and returns float value"
      ],
      "metadata": {
        "id": "dfEJ7Yp3sJrX"
      },
      "execution_count": null,
      "outputs": []
    },
    {
      "cell_type": "markdown",
      "source": [
        "## 4. Using PyInputPlus, how do you ensure that the user enters a whole number between 0 and 99?"
      ],
      "metadata": {
        "id": "zm8jBa9ljpIB"
      }
    },
    {
      "cell_type": "code",
      "source": [
        "By using pyip.inputint(min=0, max=99)"
      ],
      "metadata": {
        "id": "OWSF3wjcidZY"
      },
      "execution_count": null,
      "outputs": []
    },
    {
      "cell_type": "markdown",
      "source": [
        "## 5. What is transferred to the keyword arguments allowRegexes and blockRegexes?"
      ],
      "metadata": {
        "id": "Uk3q29evjxB2"
      }
    },
    {
      "cell_type": "code",
      "source": [
        "A list of regex strings that are either explicitly allowed or denied"
      ],
      "metadata": {
        "id": "PjpamExridlc"
      },
      "execution_count": null,
      "outputs": []
    },
    {
      "cell_type": "markdown",
      "source": [
        "## 6. If a blank input is entered three times, what does inputStr(limit=3) do?"
      ],
      "metadata": {
        "id": "kjS3eDQoj3y1"
      }
    },
    {
      "cell_type": "code",
      "source": [
        "The function will raise RetryLimitException."
      ],
      "metadata": {
        "id": "QmA_sET9idwc"
      },
      "execution_count": null,
      "outputs": []
    },
    {
      "cell_type": "markdown",
      "source": [
        "## 7. If blank input is entered three times, what does inputStr(limit=3, default='hello') do?"
      ],
      "metadata": {
        "id": "1WBKlhj3j-uH"
      }
    },
    {
      "cell_type": "code",
      "source": [
        "The function returns the value 'hello'"
      ],
      "metadata": {
        "id": "Turn1Kggid7T"
      },
      "execution_count": null,
      "outputs": []
    }
  ]
}