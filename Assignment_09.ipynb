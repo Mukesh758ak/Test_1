{
  "nbformat": 4,
  "nbformat_minor": 0,
  "metadata": {
    "colab": {
      "provenance": []
    },
    "kernelspec": {
      "name": "python3",
      "display_name": "Python 3"
    },
    "language_info": {
      "name": "python"
    }
  },
  "cells": [
    {
      "cell_type": "markdown",
      "source": [
        "## 1. To what does a relative path refer?"
      ],
      "metadata": {
        "id": "3hd9q-AU3Jix"
      }
    },
    {
      "cell_type": "code",
      "source": [
        "A relative path refers to a location that is relative to a current directory."
      ],
      "metadata": {
        "id": "J2MuBjMM3evx"
      },
      "execution_count": null,
      "outputs": []
    },
    {
      "cell_type": "markdown",
      "source": [
        "## 2. What does an absolute path start with your operating system?"
      ],
      "metadata": {
        "id": "kXIE1zL73fex"
      }
    },
    {
      "cell_type": "code",
      "source": [
        "Absolute paths start with the root folder, such as / or C:\\."
      ],
      "metadata": {
        "id": "U26Wyy_w3iW9"
      },
      "execution_count": null,
      "outputs": []
    },
    {
      "cell_type": "markdown",
      "source": [
        "## 3. What do the functions os.getcwd() and os.chdir() do?"
      ],
      "metadata": {
        "id": "Wx6Yhtzh3msd"
      }
    },
    {
      "cell_type": "code",
      "source": [
        "The os.getcwd() function returns the current working directory. The os.chdir() function changes the current working directory"
      ],
      "metadata": {
        "id": "ND0OFUwI3pFu"
      },
      "execution_count": null,
      "outputs": []
    },
    {
      "cell_type": "markdown",
      "source": [
        "## 4. What are the . and .. folders?"
      ],
      "metadata": {
        "id": "3thlSDFV3r3F"
      }
    },
    {
      "cell_type": "code",
      "source": [
        "The . folder is the current folder, and .. is the parent folder"
      ],
      "metadata": {
        "id": "Cts03RUC3vdf"
      },
      "execution_count": null,
      "outputs": []
    },
    {
      "cell_type": "markdown",
      "source": [
        "## 5. In C:\\bacon\\eggs\\spam.txt, which part is the dir name, and which part is the base name?"
      ],
      "metadata": {
        "id": "HIzi04Tf3zVV"
      }
    },
    {
      "cell_type": "code",
      "source": [
        "C:\\bacon\\eggs is the dir name, while spam.txt is the base name."
      ],
      "metadata": {
        "id": "rTJFyU-W32Zh"
      },
      "execution_count": null,
      "outputs": []
    },
    {
      "cell_type": "markdown",
      "source": [
        "## 6. What are the three “mode” arguments that can be passed to the open() function?"
      ],
      "metadata": {
        "id": "8dtKVuvf35gz"
      }
    },
    {
      "cell_type": "code",
      "source": [
        "The string 'r' for read mode, 'w' for write mode, and 'a' for append mode"
      ],
      "metadata": {
        "id": "BUB2Aulo372N"
      },
      "execution_count": null,
      "outputs": []
    },
    {
      "cell_type": "markdown",
      "source": [
        "## 7. What happens if an existing file is opened in write mode?"
      ],
      "metadata": {
        "id": "MxzapYXU4EUR"
      }
    },
    {
      "cell_type": "code",
      "source": [
        "An existing file opened in write mode is erased and completely overwritten"
      ],
      "metadata": {
        "id": "rQDVgbL14GC0"
      },
      "execution_count": null,
      "outputs": []
    },
    {
      "cell_type": "markdown",
      "source": [
        "## 8. How do you tell the difference between read() and readlines()?"
      ],
      "metadata": {
        "id": "Uf50MnRV4J9j"
      }
    },
    {
      "cell_type": "code",
      "source": [
        "The read() method returns the file’s entire contents as a single string value. The readlines() method returns a \n",
        "list of strings, where each string is a line from the file’s contents."
      ],
      "metadata": {
        "id": "JQZlBUbt4L_h"
      },
      "execution_count": null,
      "outputs": []
    },
    {
      "cell_type": "markdown",
      "source": [
        "## 9. What data structure does a shelf value resemble?"
      ],
      "metadata": {
        "id": "aWT2PAnk4PWk"
      }
    },
    {
      "cell_type": "code",
      "source": [
        " A shelf value resembles a dictionary value; it has keys and values, along with keys() \n",
        " and values() methods that work similarly to the dictionary methods of the same names."
      ],
      "metadata": {
        "id": "J1bePXpQtLEJ"
      },
      "execution_count": null,
      "outputs": []
    }
  ]
}