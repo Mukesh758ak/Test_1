{
  "nbformat": 4,
  "nbformat_minor": 0,
  "metadata": {
    "colab": {
      "provenance": []
    },
    "kernelspec": {
      "name": "python3",
      "display_name": "Python 3"
    },
    "language_info": {
      "name": "python"
    }
  },
  "cells": [
    {
      "cell_type": "markdown",
      "source": [
        "## 1. What is the name of the feature responsible for generating Regex objects?"
      ],
      "metadata": {
        "id": "SRTgjDGs2MI_"
      }
    },
    {
      "cell_type": "code",
      "execution_count": null,
      "metadata": {
        "id": "0COGdZMfwOt9"
      },
      "outputs": [],
      "source": [
        "The re. compile() function returns Regex objects."
      ]
    },
    {
      "cell_type": "markdown",
      "source": [
        "## 2. Why do raw strings often appear in Regex objects?"
      ],
      "metadata": {
        "id": "2seshTtM2U9b"
      }
    },
    {
      "cell_type": "code",
      "source": [
        "Raw strings are used so that backslashes do not have to be escaped."
      ],
      "metadata": {
        "id": "5RKVaF4Qwi_j"
      },
      "execution_count": null,
      "outputs": []
    },
    {
      "cell_type": "markdown",
      "source": [
        "## 3. What is the return value of the search() method?"
      ],
      "metadata": {
        "id": "jY1wK_Tb2XK4"
      }
    },
    {
      "cell_type": "code",
      "source": [
        "The search() method returns the index (position) of the first match. The search() method \n",
        "returns -1 if no match is found. The search() method is case sensitive."
      ],
      "metadata": {
        "id": "nwHXqNj9wjLN"
      },
      "execution_count": null,
      "outputs": []
    },
    {
      "cell_type": "markdown",
      "source": [
        "## 4. From a Match item, how do you get the actual strings that match the pattern?"
      ],
      "metadata": {
        "id": "yenlVADm2daW"
      }
    },
    {
      "cell_type": "code",
      "source": [
        "The group() method returns strings of the matched text."
      ],
      "metadata": {
        "id": "hhSyZKlpwjSj"
      },
      "execution_count": null,
      "outputs": []
    },
    {
      "cell_type": "markdown",
      "source": [
        "## 5. In the regex which created from the r'(\\d\\d\\d)-(\\d\\d\\d-\\d\\d\\d\\d)', what   ## does group zero cover? Group 2? Group 1?"
      ],
      "metadata": {
        "id": "02H2bpT82jWP"
      }
    },
    {
      "cell_type": "code",
      "source": [
        "Group 0 is the entire match, group 2 covers the second set of parentheses, and group 1 covers the first set of parentheses."
      ],
      "metadata": {
        "id": "0DDIhoXPwjai"
      },
      "execution_count": null,
      "outputs": []
    },
    {
      "cell_type": "markdown",
      "source": [
        "## 6. In standard expression syntax, parentheses and intervals have distinct meanings. How can you tell a regex that you want it to fit real parentheses and periods?"
      ],
      "metadata": {
        "id": "8x1s6XpE3IYo"
      }
    },
    {
      "cell_type": "code",
      "source": [
        "Periods and parentheses can be escaped with a backslash: \\., \\(, and \\)"
      ],
      "metadata": {
        "id": "2JV_I0-bwjhh"
      },
      "execution_count": null,
      "outputs": []
    },
    {
      "cell_type": "markdown",
      "source": [
        "## 7. The findall() method returns a string list or a list of string tuples. What causes it to return one of the two options?"
      ],
      "metadata": {
        "id": "hWdxfl0D3U4d"
      }
    },
    {
      "cell_type": "code",
      "source": [
        "If the regex has no groups, a list of strings is returned. If the regex has groups, a list of tuples of strings is returned"
      ],
      "metadata": {
        "id": "_qNz9i92wjpG"
      },
      "execution_count": null,
      "outputs": []
    },
    {
      "cell_type": "markdown",
      "source": [
        "## 8. In standard expressions, what does the | character mean?"
      ],
      "metadata": {
        "id": "FZj9KM7I3cVD"
      }
    },
    {
      "cell_type": "code",
      "source": [
        "The | character signifies matching \"either, or\" between two groups."
      ],
      "metadata": {
        "id": "0YM3oDmrwjwG"
      },
      "execution_count": null,
      "outputs": []
    },
    {
      "cell_type": "markdown",
      "source": [
        "## 9. In regular expressions, what does the character stand for?"
      ],
      "metadata": {
        "id": "UcZZSyND3jNa"
      }
    },
    {
      "cell_type": "code",
      "source": [
        "All characters, except those having special meaning in regex, matches themselves."
      ],
      "metadata": {
        "id": "zlJOJ10dwj3G"
      },
      "execution_count": null,
      "outputs": []
    },
    {
      "cell_type": "markdown",
      "source": [
        "## 10.In regular expressions, what is the difference between the + and * characters?"
      ],
      "metadata": {
        "id": "moJwH3PU3oJQ"
      }
    },
    {
      "cell_type": "code",
      "source": [
        "The + matches one or more. The * matches zero or more"
      ],
      "metadata": {
        "id": "VuI69OIF3t8S"
      },
      "execution_count": null,
      "outputs": []
    },
    {
      "cell_type": "markdown",
      "source": [
        "## 11. What is the difference between {4} and {4,5} in regular expression?"
      ],
      "metadata": {
        "id": "JxD4_YLZ3up7"
      }
    },
    {
      "cell_type": "code",
      "source": [
        "The {4} matches exactly four instances of the preceding group. The {4,5} matches between four and five instances."
      ],
      "metadata": {
        "id": "r19vGtaH3t5b"
      },
      "execution_count": null,
      "outputs": []
    },
    {
      "cell_type": "markdown",
      "source": [
        "## 12. What do you mean by the \\d, \\w, and \\s shorthand character classes signify in regular expressions?"
      ],
      "metadata": {
        "id": "DBeaw4xL30Qk"
      }
    },
    {
      "cell_type": "code",
      "source": [
        "The \\d, \\w, and \\s shorthand character classes match a single digit, word, or space character, respectively."
      ],
      "metadata": {
        "id": "mboSZ6Cd3t1T"
      },
      "execution_count": null,
      "outputs": []
    },
    {
      "cell_type": "markdown",
      "source": [
        "## 13. What do means by \\D, \\W, and \\S shorthand character classes signify in regular expressions?"
      ],
      "metadata": {
        "id": "ZsCYK1D94Wqd"
      }
    },
    {
      "cell_type": "code",
      "source": [
        "The \\D, \\W, and \\S shorthand character classes match a single character that is not a digit, word, or space character, respectively."
      ],
      "metadata": {
        "id": "0hmDFxAM3ty-"
      },
      "execution_count": null,
      "outputs": []
    },
    {
      "cell_type": "markdown",
      "source": [
        "## 14. What is the difference between .*? and .*?"
      ],
      "metadata": {
        "id": "icuIjgJo4qUk"
      }
    },
    {
      "cell_type": "code",
      "source": [
        "The .? performs a greedy match, and the .? performs a nongreedy match."
      ],
      "metadata": {
        "id": "hJHKiwOe3tvS"
      },
      "execution_count": null,
      "outputs": []
    },
    {
      "cell_type": "markdown",
      "source": [
        "## 15. What is the syntax for matching both numbers and lowercase letters with a character class?"
      ],
      "metadata": {
        "id": "qG3a_C3I4xnt"
      }
    },
    {
      "cell_type": "code",
      "source": [
        "Either [0-9a-z] or [a-z0-9]"
      ],
      "metadata": {
        "id": "R5t11kjK3ttK"
      },
      "execution_count": null,
      "outputs": []
    },
    {
      "cell_type": "markdown",
      "source": [
        "## 16. What is the procedure for making a normal expression in regax case insensitive?"
      ],
      "metadata": {
        "id": "aZmQQbxK46ZO"
      }
    },
    {
      "cell_type": "code",
      "source": [
        "use the regular expression /i"
      ],
      "metadata": {
        "id": "d_B8YRpx3tpE"
      },
      "execution_count": null,
      "outputs": []
    },
    {
      "cell_type": "markdown",
      "source": [
        "## 17. What does the . character normally match? What does it match if re.DOTALL is passed as 2nd argument in re.compile()?"
      ],
      "metadata": {
        "id": "bZe55HEG5BVA"
      }
    },
    {
      "cell_type": "code",
      "source": [
        "The . character normally matches any character except the newline character. \n",
        "If re.DOTALL is passed as  argument to re.compile(), then the dot will also match newline characters."
      ],
      "metadata": {
        "id": "xM7rDYXa3tlz"
      },
      "execution_count": null,
      "outputs": []
    },
    {
      "cell_type": "markdown",
      "source": [
        "## 18. If numReg = re.compile(r'\\d+'), what will numRegex.sub('X', '11 drummers, 10 pipers, five rings, 4 hen') return?"
      ],
      "metadata": {
        "id": "IcVG5_Ff5LTO"
      }
    },
    {
      "cell_type": "code",
      "source": [
        "X drummers, X pipers, five rings, X hens"
      ],
      "metadata": {
        "id": "DEmx1qxP3ti6"
      },
      "execution_count": null,
      "outputs": []
    },
    {
      "cell_type": "markdown",
      "source": [
        "## 19. What does passing re.VERBOSE as the 2nd argument to re.compile() allow to do?"
      ],
      "metadata": {
        "id": "wwXCG4u959lv"
      }
    },
    {
      "cell_type": "code",
      "source": [
        "The re.VERBOSE argument allows you to add whitespace and comments to the string passed to re.compile()."
      ],
      "metadata": {
        "id": "vPvPvy5Owj-D"
      },
      "execution_count": null,
      "outputs": []
    },
    {
      "cell_type": "markdown",
      "source": [
        "## 20. How would you write a regex that match a number with comma for every three digits? It must match the given following:\n",
        "'42'\n",
        "'1,234'\n",
        "'6,368,745'"
      ],
      "metadata": {
        "id": "Ds4iGaiV6D4a"
      }
    },
    {
      "cell_type": "code",
      "source": [
        "re.compile(r'^\\d{1,3}(,\\d{3})*$') will create this regex,\n",
        "but other regex strings can produce a similar regular expression."
      ],
      "metadata": {
        "id": "GcnGh_GZ6DgV"
      },
      "execution_count": null,
      "outputs": []
    }
  ]
}